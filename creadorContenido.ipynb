{
 "cells": [
  {
   "cell_type": "code",
   "execution_count": 86,
   "metadata": {},
   "outputs": [],
   "source": [
    "import sqlite3\n",
    "\n",
    "def guardar(tabla, url, informacion):\n",
    "    with sqlite3.connect('datosScraping.db') as conexion:\n",
    "        cursor = conexion.cursor()\n",
    "    \n",
    "        # Verificar si ya existe el registro antes de la inserción\n",
    "        cursor.execute(f\"SELECT COUNT(*) FROM {tabla} WHERE url = ? AND informacion = ?\", (url, informacion))\n",
    "        registroExistente = cursor.fetchone()[0]\n",
    "\n",
    "        if not registroExistente:\n",
    "            # Evitar posibles problemas de SQL injection utilizando parámetros de la consulta\n",
    "            cursor.execute(f\"INSERT INTO {tabla} (url, informacion) VALUES (?, ?)\", (url, informacion))\n",
    "            print(f\"Guardado en {tabla}: {url}, {informacion}\")\n",
    "            conexion.commit()\n",
    "        else:\n",
    "            print(f\"Registro existente en {tabla}: {url}, {informacion}\")\n",
    "\n",
    "            \n",
    "    conexion.close()"
   ]
  },
  {
   "cell_type": "code",
   "execution_count": 91,
   "metadata": {},
   "outputs": [],
   "source": [
    "#CREAMOS UN ARCHIVO PARA GUARDAR LA URL:\n",
    "def listaUrls(urlNueva):\n",
    "    # Verificamos si la URL ya existe en el archivo\n",
    "\n",
    "    try:\n",
    "        # Verificamos si el archivo existe\n",
    "        archivo = open(\"urls.txt\", 'r')\n",
    "        urlsExistentes = archivo.read().splitlines()\n",
    "        archivo.close()\n",
    "    except FileNotFoundError:\n",
    "        # Si el archivo no existe, lo creamos\n",
    "        archivo = open(\"urls.txt\", 'w')\n",
    "        urlsExistentes = []\n",
    "        archivo.close()\n",
    "\n",
    "\n",
    "    if urlNueva not in urlsExistentes:\n",
    "        # Si la URL no existe, añadir al final del archivo\n",
    "           \n",
    "        archivo = open(\"urls.txt\", 'a')\n",
    "        archivo.write(f\"{urlNueva}\\n\")\n",
    "        print(f\"URL añadida: {urlNueva}\")\n",
    "        archivo.close()\n",
    "        return True\n",
    "            \n",
    "    else:\n",
    "        print(f\"La URL ya existe en el archivo: {urlNueva}\")\n",
    "        return False\n",
    "\n"
   ]
  },
  {
   "cell_type": "code",
   "execution_count": 92,
   "metadata": {},
   "outputs": [],
   "source": [
    "def raspado(urls, etiquetas):\n",
    "    import requests\n",
    "    from bs4 import BeautifulSoup\n",
    "    from urllib.parse import urlparse\n",
    "\n",
    "    for url in urls: #Verificamos si hay alguna url inválida\n",
    "        parsed_url = urlparse(url)\n",
    "        if not (parsed_url.scheme and parsed_url.netloc):\n",
    "            print(f\"URL inválida: {url}\")\n",
    "            continue\n",
    "        if listaUrls(url):\n",
    "            contenido = requests.get(url)\n",
    "            sopa = BeautifulSoup(contenido.text, 'html.parser')\n",
    "\n",
    "            for etiqueta in etiquetas:\n",
    "                elementos = sopa.find_all(etiqueta)\n",
    "                \n",
    "                for elemento in elementos:\n",
    "                    if etiqueta == 'a':\n",
    "                        # Si la etiqueta es 'a' (enlace), obtener la URL del atributo 'href'\n",
    "                        informacion = elemento.get('href')\n",
    "                        if not informacion.startswith(('https:', '//')):\n",
    "                            continue\n",
    "                    elif etiqueta == 'img':\n",
    "                        # Si la etiqueta es 'img' (imagen), obtener la URL del atributo 'src'\n",
    "                        informacion = elemento.get('src')\n",
    "                        # Agregar condición para verificar si la URL comienza con 'https' o '//'\n",
    "                        if not informacion.startswith(('https:', '//')):\n",
    "                            continue  # Salta a la siguiente iteración si no cumple con la condición\n",
    "                    else:\n",
    "                        # En otros casos, obtener el texto del elemento\n",
    "                        informacion = elemento.text.strip()\n",
    "\n",
    "                    # Guardar en la base de datos\n",
    "                    guardar(etiqueta, url, informacion)\n"
   ]
  },
  {
   "cell_type": "code",
   "execution_count": 93,
   "metadata": {},
   "outputs": [],
   "source": [
    "listaUrl =  [\"https://es.wikipedia.org/wiki/Pit_bull_terrier_americano\",\"https://es.wikipedia.org/wiki/Basset_hound\"]\n",
    "listaEtiquetas = [\"h1\",\"p\",\"a\",\"img\"]"
   ]
  },
  {
   "cell_type": "code",
   "execution_count": 95,
   "metadata": {},
   "outputs": [
    {
     "name": "stdout",
     "output_type": "stream",
     "text": [
      "La URL ya existe en el archivo: https://es.wikipedia.org/wiki/Pit_bull_terrier_americano\n",
      "La URL ya existe en el archivo: https://es.wikipedia.org/wiki/Basset_hound\n"
     ]
    }
   ],
   "source": [
    "raspado(listaUrl, listaEtiquetas)"
   ]
  },
  {
   "cell_type": "code",
   "execution_count": 80,
   "metadata": {},
   "outputs": [
    {
     "name": "stdout",
     "output_type": "stream",
     "text": [
      "URL añadida: https://es.wikipedia.org/wiki/Pit_bull_terrier_americano\n",
      "https://es.wikipedia.org/wiki/Pit_bull_terrier_americano\n"
     ]
    }
   ],
   "source": [
    "nueva_url = \"https://es.wikipedia.org/wiki/Pit_bull_terrier_americano\"\n",
    "print(listaUrl(nueva_url))"
   ]
  },
  {
   "cell_type": "code",
   "execution_count": null,
   "metadata": {},
   "outputs": [],
   "source": []
  }
 ],
 "metadata": {
  "kernelspec": {
   "display_name": "Python 3",
   "language": "python",
   "name": "python3"
  },
  "language_info": {
   "codemirror_mode": {
    "name": "ipython",
    "version": 3
   },
   "file_extension": ".py",
   "mimetype": "text/x-python",
   "name": "python",
   "nbconvert_exporter": "python",
   "pygments_lexer": "ipython3",
   "version": "3.12.1"
  }
 },
 "nbformat": 4,
 "nbformat_minor": 2
}
